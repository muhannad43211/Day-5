{
 "cells": [
  {
   "cell_type": "markdown",
   "metadata": {},
   "source": [
    "# Python_Lab_3\n"
   ]
  },
  {
   "cell_type": "markdown",
   "metadata": {},
   "source": [
    "### Task 1\n",
    "- Write a function named **'create_student_records'** that takes a list of tuples. Each tuple contains a student's name and their scores in three subjects. The function should return a list of dictionaries, where each dictionary represents a student with keys: name, subject1, subject2, subject3. Use list comprehension to create the list of dictionaries."
   ]
  },
  {
   "cell_type": "code",
   "execution_count": 2,
   "metadata": {},
   "outputs": [],
   "source": [
    "# write your code here ^_^\n",
    "def create_student_records(student_data):\n",
    "  return [{\n",
    "      \"name\": name,\n",
    "      \"subject1\": scores[0],\n",
    "      \"subject2\": scores[1],\n",
    "      \"subject3\": scores[2]\n",
    "  } for name, scores in student_data]"
   ]
  },
  {
   "cell_type": "markdown",
   "metadata": {},
   "source": [
    "### Task 2\n",
    "- Write a function named **'filter_and_sort_students'** that takes the list of dictionaries from Question 1 and returns a sorted list of student names who have an average score of 80 or more across all subjects. Sort the names in alphabetical order."
   ]
  },
  {
   "cell_type": "code",
   "execution_count": 4,
   "metadata": {},
   "outputs": [],
   "source": [
    "# write your code here ^_^\n",
    "def filter_and_sort_students(student_records):\n",
    "  filtered_students = [\n",
    "      student[\"name\"]\n",
    "      for student in student_records\n",
    "      if (student[\"subject1\"] + student[\"subject2\"] + student[\"subject3\"]) / 3 >= 80\n",
    "  ]\n",
    "  return sorted(filtered_students)"
   ]
  },
  {
   "cell_type": "markdown",
   "metadata": {},
   "source": [
    "### Task 3\n",
    "- Write a function named **'get_product_info'** that prompts the user to enter information about a product. The function should ask for the product name, product price, and product quantity. If the user enters an invalid input (e.g., a non-numeric value for the price or quantity), the function should handle the error and prompt the user to enter the value again. Return a dictionary containing the product information."
   ]
  },
  {
   "cell_type": "code",
   "execution_count": 1,
   "metadata": {},
   "outputs": [],
   "source": [
    "# write your code here ^_^\n",
    "def get_product_info():\n",
    "  while True:\n",
    "    try:\n",
    "      product_name = input(\"Enter the product name: \")\n",
    "      product_price = float(input(\"Enter the product price: \"))\n",
    "      product_quantity = int(input(\"Enter the product quantity:  \"))\n",
    "      return {\n",
    "          \"name\": product_name,\n",
    "          \"price\": product_price,\n",
    "          \"quantity\": product_quantity\n",
    "      }\n",
    "    except ValueError:\n",
    "      print(\"Invalid input. Please enter a valid number for price and quantity.\")"
   ]
  },
  {
   "cell_type": "markdown",
   "metadata": {},
   "source": [
    "### Task 4\n",
    "- Write a function named **'get_even_numbers'** that takes a list of integers and returns a list of even numbers using list comprehension."
   ]
  },
  {
   "cell_type": "code",
   "execution_count": 5,
   "metadata": {},
   "outputs": [],
   "source": [
    "# write your code here ^_^\n",
    "def get_even_numbers(numbers):\n",
    "    return [num for num in numbers if num % 2 == 0]"
   ]
  },
  {
   "cell_type": "markdown",
   "metadata": {},
   "source": [
    "### Task 5\n",
    "- Write a function named **'pair_elements'** that takes two lists of equal length as parameters and returns a list of tuples, where each tuple contains corresponding elements from the two lists. Use the zip function to achieve this."
   ]
  },
  {
   "cell_type": "markdown",
   "metadata": {},
   "source": []
  },
  {
   "cell_type": "code",
   "execution_count": 6,
   "metadata": {},
   "outputs": [],
   "source": [
    "# write your code here ^_^\n",
    "def pair_elements(list1, list2):\n",
    "    return list(zip(list1, list2))"
   ]
  },
  {
   "cell_type": "markdown",
   "metadata": {},
   "source": [
    "### Task 6\n",
    "- Write a function named **'square_dict_lambda'** that takes a list of integers and returns a dictionary where the keys are the integers and the values are their squares. Use a lambda function within a dictionary comprehension to achieve this."
   ]
  },
  {
   "cell_type": "code",
   "execution_count": 7,
   "metadata": {},
   "outputs": [
    {
     "name": "stderr",
     "output_type": "stream",
     "text": [
      "<>:3: SyntaxWarning: 'int' object is not callable; perhaps you missed a comma?\n",
      "<>:3: SyntaxWarning: 'int' object is not callable; perhaps you missed a comma?\n",
      "C:\\Users\\مهند\\AppData\\Local\\Temp\\ipykernel_41256\\3925537763.py:3: SyntaxWarning: 'int' object is not callable; perhaps you missed a comma?\n",
      "  return {num: lambda x: x**2(num) for num in numbers}\n"
     ]
    }
   ],
   "source": [
    "# write your code here ^_^\n",
    "def square_dict_lambda(numbers):\n",
    "  return {num: lambda x: x**2(num) for num in numbers}"
   ]
  }
 ],
 "metadata": {
  "kernelspec": {
   "display_name": "Python 3",
   "language": "python",
   "name": "python3"
  },
  "language_info": {
   "codemirror_mode": {
    "name": "ipython",
    "version": 3
   },
   "file_extension": ".py",
   "mimetype": "text/x-python",
   "name": "python",
   "nbconvert_exporter": "python",
   "pygments_lexer": "ipython3",
   "version": "3.9.13"
  }
 },
 "nbformat": 4,
 "nbformat_minor": 2
}
